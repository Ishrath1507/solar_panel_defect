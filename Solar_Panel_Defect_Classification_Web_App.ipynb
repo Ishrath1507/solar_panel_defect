{
  "nbformat": 4,
  "nbformat_minor": 0,
  "metadata": {
    "colab": {
      "name": "Solar Panel Defect Classification Web App.ipynb",
      "provenance": [],
      "collapsed_sections": []
    },
    "kernelspec": {
      "name": "python3",
      "display_name": "Python 3"
    },
    "language_info": {
      "name": "python"
    }
  },
  "cells": [
    {
      "cell_type": "code",
      "source": [
        "!pip install -q streamlit"
      ],
      "metadata": {
        "id": "7RhrGmeZ7S4Q"
      },
      "execution_count": null,
      "outputs": []
    },
    {
      "cell_type": "code",
      "source": [
        "!pip install pyngrok"
      ],
      "metadata": {
        "colab": {
          "base_uri": "https://localhost:8080/"
        },
        "id": "VgKrwBv08GmT",
        "outputId": "a115d666-3673-4233-b0a7-9050dbf165dd"
      },
      "execution_count": null,
      "outputs": [
        {
          "output_type": "stream",
          "name": "stdout",
          "text": [
            "Requirement already satisfied: pyngrok in /usr/local/lib/python3.7/dist-packages (5.1.0)\n",
            "Requirement already satisfied: PyYAML in /usr/local/lib/python3.7/dist-packages (from pyngrok) (3.13)\n"
          ]
        }
      ]
    },
    {
      "cell_type": "code",
      "source": [
        "!./ngrok authtoken 256itPUEkCjes6hzJz3MoG3yIm4_5UWfXGRJHWXNsAgKYidkr"
      ],
      "metadata": {
        "colab": {
          "base_uri": "https://localhost:8080/"
        },
        "id": "tvwqvOo5-vwh",
        "outputId": "2e8d146b-0d43-4554-cf49-e1d4507f097e"
      },
      "execution_count": null,
      "outputs": [
        {
          "output_type": "stream",
          "name": "stdout",
          "text": [
            "/bin/bash: ./ngrok: No such file or directory\n"
          ]
        }
      ]
    },
    {
      "cell_type": "code",
      "source": [
        "!SHOW CODE"
      ],
      "metadata": {
        "colab": {
          "base_uri": "https://localhost:8080/"
        },
        "id": "ZJ70lhAm-o3x",
        "outputId": "a9899067-41c2-4b6f-8de6-962f1faaae84"
      },
      "execution_count": null,
      "outputs": [
        {
          "output_type": "stream",
          "name": "stdout",
          "text": [
            "/bin/bash: SHOW: command not found\n"
          ]
        }
      ]
    },
    {
      "cell_type": "code",
      "source": [
        "from google.colab import drive \n",
        "drive.mount('/content/drive')"
      ],
      "metadata": {
        "colab": {
          "base_uri": "https://localhost:8080/"
        },
        "id": "X_Zva0Ti-sKS",
        "outputId": "0093fc93-fe4f-4e7e-aac8-279de821a1f9"
      },
      "execution_count": null,
      "outputs": [
        {
          "output_type": "stream",
          "name": "stdout",
          "text": [
            "Drive already mounted at /content/drive; to attempt to forcibly remount, call drive.mount(\"/content/drive\", force_remount=True).\n"
          ]
        }
      ]
    },
    {
      "cell_type": "code",
      "source": [
        "%%writefile score.py\n",
        "\n",
        "\n",
        "import tensorflow as tf\n",
        "import numpy as np\n",
        "import streamlit as st\n",
        "from PIL import Image \n",
        "import requests \n",
        "from io import BytesIO\n",
        "\n",
        "\n",
        "st.set_option('deprecation.showfileUploaderEncoding',False)\n",
        "st.title(\"Solar Panel Classifier\")\n",
        "st.text(\"Provide URL of Solar Image for image classification \")\n",
        "\n",
        "\n",
        "@st.cache(allow_output_mutation = True)\n",
        "def load_model():\n",
        "  model = tf.keras.models.load_model('/content/drive/MyDrive/Model')\n",
        "  return model\n",
        "\n",
        "\n",
        "  with st.spinner('Loading Model into Memory....'):\n",
        "    model = load_model()\n",
        "\n",
        "\n",
        "    classses = ['Defect','No Defect']\n",
        "    \n",
        "\n",
        "    def scale(image):\n",
        "      image = tf.cast(image,tf.float32)\n",
        "      image /= 255.0\n",
        "\n",
        "      return tf.image.resize(image,[224,224])\n",
        "\n",
        "      def decode_img(image):\n",
        "        img = tf.image.decode_jpeg(image, channels=3)\n",
        "        img = scale(img)\n",
        "        return np.expand_dims(img, axis=0)\n",
        "\n",
        "        path = st.text_input('Enter Image URL to classify...','https://www.google.com/imgres?imgurl=https%3A%2F%2Fm.economictimes.com%2Fthumb%2Fmsid-69130611%2Cwidth-1200%2Cheight-900%2Cresizemode-4%2Cimgsize-472342%2Fpolycrystalline-solar-panels-cheap-yet-efficient-long-lasting-solar-panels.jpg&imgrefurl=https%3A%2F%2Feconomictimes.indiatimes.com%2Fsmall-biz%2Fproductline%2Fpower-generation%2Fpolycrystalline-solar-panels-cheap-yet-efficient-long-lasting-solar-panels%2Farticleshow%2F69130611.cms&tbnid=y3uNmCk-KtRECM&vet=12ahUKEwiT-8Ow3f_1AhXFiNgFHQvkD88QMygEegUIARDfAQ..i&docid=BgCaZTbmlJA_EM&w=1200&h=900&q=solar%20panel%20image&ved=2ahUKEwiT-8Ow3f_1AhXFiNgFHQvkD88QMygEegUIARDfAQ')\n",
        "        if path is not None:\n",
        "          content = requests.get(path).content\n",
        "\n",
        "          st.write(\"Predicted: \")\n",
        "          with st.spinner('classifying......'):\n",
        "            label = np.argmax(model.predict(decode_img(content)),axis=1)\n",
        "            st.write(classes[label[0]])\n",
        "            st.write(\"\")\n",
        "            image = Image.open(BytesIO(content))\n",
        "            st.image(image, caption='Classifying Solar Panel Image ', use_column_width = True)\n",
        "\n",
        "\n",
        "\n",
        "\n",
        "\n",
        "\n"
      ],
      "metadata": {
        "colab": {
          "base_uri": "https://localhost:8080/"
        },
        "id": "D768oVpO_iRi",
        "outputId": "1bad8712-916e-4bfe-b563-8b28e25c3748"
      },
      "execution_count": null,
      "outputs": [
        {
          "output_type": "stream",
          "name": "stdout",
          "text": [
            "Overwriting score.py\n"
          ]
        }
      ]
    },
    {
      "cell_type": "code",
      "source": [
        "!nohup streamlit run score.py &\n"
      ],
      "metadata": {
        "colab": {
          "base_uri": "https://localhost:8080/"
        },
        "id": "JP5LD4bP__Kt",
        "outputId": "d60245b1-5823-4b16-f639-54cc4f179cd5"
      },
      "execution_count": null,
      "outputs": [
        {
          "output_type": "stream",
          "name": "stdout",
          "text": [
            "nohup: appending output to 'nohup.out'\n"
          ]
        }
      ]
    },
    {
      "cell_type": "code",
      "source": [
        "from pyngrok import ngrok\n",
        "\n",
        "\n",
        "url = ngrok.connect(port=8501)\n",
        "url"
      ],
      "metadata": {
        "colab": {
          "base_uri": "https://localhost:8080/"
        },
        "id": "hxWOZKHhUqJC",
        "outputId": "dafa3f65-5b3c-4649-f72b-049427e31985"
      },
      "execution_count": null,
      "outputs": [
        {
          "output_type": "stream",
          "name": "stderr",
          "text": [
            "2022-02-14 17:47:12.015 INFO    pyngrok.ngrok: Opening tunnel named: http-80-f0121579-dea5-416b-b6ae-cd8035e8e186\n"
          ]
        },
        {
          "output_type": "stream",
          "name": "stdout",
          "text": [
            ""
          ]
        },
        {
          "output_type": "stream",
          "name": "stderr",
          "text": [
            "2022-02-14 17:47:13.042 INFO    pyngrok.process.ngrok: t=2022-02-14T17:47:13+0000 lvl=info msg=\"no configuration paths supplied\"\n",
            "2022-02-14 17:47:13.046 INFO    pyngrok.process.ngrok: t=2022-02-14T17:47:13+0000 lvl=info msg=\"using configuration at default config path\" path=/root/.ngrok2/ngrok.yml\n",
            "2022-02-14 17:47:13.048 INFO    pyngrok.process.ngrok: t=2022-02-14T17:47:13+0000 lvl=info msg=\"open config file\" path=/root/.ngrok2/ngrok.yml err=nil\n",
            "2022-02-14 17:47:13.051 INFO    pyngrok.process.ngrok: t=2022-02-14T17:47:13+0000 lvl=info msg=\"starting web service\" obj=web addr=127.0.0.1:4040\n",
            "2022-02-14 17:47:13.162 INFO    pyngrok.process.ngrok: t=2022-02-14T17:47:13+0000 lvl=info msg=\"tunnel session started\" obj=tunnels.session\n",
            "2022-02-14 17:47:13.166 INFO    pyngrok.process.ngrok: t=2022-02-14T17:47:13+0000 lvl=info msg=\"client session established\" obj=csess id=baeab379bd0f\n",
            "2022-02-14 17:47:13.179 INFO    pyngrok.process.ngrok: t=2022-02-14T17:47:13+0000 lvl=info msg=start pg=/api/tunnels id=fdc73b3956405f0e\n",
            "2022-02-14 17:47:13.185 INFO    pyngrok.process.ngrok: t=2022-02-14T17:47:13+0000 lvl=info msg=end pg=/api/tunnels id=fdc73b3956405f0e status=200 dur=711.498µs\n",
            "2022-02-14 17:47:13.189 INFO    pyngrok.process.ngrok: t=2022-02-14T17:47:13+0000 lvl=info msg=start pg=/api/tunnels id=da5709b5d886db5f\n",
            "2022-02-14 17:47:13.193 INFO    pyngrok.process.ngrok: t=2022-02-14T17:47:13+0000 lvl=info msg=end pg=/api/tunnels id=da5709b5d886db5f status=200 dur=187.329µs\n",
            "2022-02-14 17:47:13.198 INFO    pyngrok.process.ngrok: t=2022-02-14T17:47:13+0000 lvl=info msg=start pg=/api/tunnels id=6d013ce300d23794\n",
            "2022-02-14 17:47:13.281 INFO    pyngrok.process.ngrok: t=2022-02-14T17:47:13+0000 lvl=info msg=\"started tunnel\" obj=tunnels name=\"http-80-f0121579-dea5-416b-b6ae-cd8035e8e186 (http)\" addr=http://localhost:80 url=http://5091-35-199-46-38.ngrok.io\n",
            "2022-02-14 17:47:13.287 INFO    pyngrok.process.ngrok: t=2022-02-14T17:47:13+0000 lvl=info msg=\"started tunnel\" obj=tunnels name=http-80-f0121579-dea5-416b-b6ae-cd8035e8e186 addr=http://localhost:80 url=https://5091-35-199-46-38.ngrok.io\n",
            "2022-02-14 17:47:13.290 INFO    pyngrok.process.ngrok: t=2022-02-14T17:47:13+0000 lvl=info msg=end pg=/api/tunnels id=6d013ce300d23794 status=201 dur=102.979123ms\n",
            "2022-02-14 17:47:13.293 INFO    pyngrok.process.ngrok: t=2022-02-14T17:47:13+0000 lvl=info msg=start pg=\"/api/tunnels/http-80-f0121579-dea5-416b-b6ae-cd8035e8e186 (http)\" id=5a6ec6c8e661b2c0\n",
            "2022-02-14 17:47:13.300 INFO    pyngrok.process.ngrok: t=2022-02-14T17:47:13+0000 lvl=info msg=end pg=\"/api/tunnels/http-80-f0121579-dea5-416b-b6ae-cd8035e8e186 (http)\" id=5a6ec6c8e661b2c0 status=200 dur=241.916µs\n"
          ]
        },
        {
          "output_type": "execute_result",
          "data": {
            "text/plain": [
              "<NgrokTunnel: \"http://5091-35-199-46-38.ngrok.io\" -> \"http://localhost:80\">"
            ]
          },
          "metadata": {},
          "execution_count": 14
        }
      ]
    },
    {
      "cell_type": "code",
      "source": [
        "!cat nohup.out"
      ],
      "metadata": {
        "colab": {
          "base_uri": "https://localhost:8080/"
        },
        "id": "Uf8R9NK-WHa6",
        "outputId": "4f90e85a-a7f8-4daf-cdf1-d6eb9b831829"
      },
      "execution_count": null,
      "outputs": [
        {
          "output_type": "stream",
          "name": "stdout",
          "text": [
            "2022-02-14 17:46:10.961 INFO    numexpr.utils: NumExpr defaulting to 2 threads.\n",
            "\n",
            "  You can now view your Streamlit app in your browser.\n",
            "\n",
            "  Network URL: http://172.28.0.2:8501\n",
            "  External URL: http://35.199.46.38:8501\n",
            "\n"
          ]
        }
      ]
    },
    {
      "cell_type": "code",
      "source": [
        ""
      ],
      "metadata": {
        "id": "WdXTFwtDWYwb"
      },
      "execution_count": null,
      "outputs": []
    }
  ]
}